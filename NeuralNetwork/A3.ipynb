{
 "cells": [
  {
   "cell_type": "code",
   "execution_count": 2,
   "metadata": {},
   "outputs": [],
   "source": [
    "# Some more magic so that the notebook will reload external python modules;\n",
    "# see http://stackoverflow.com/questions/1907993/autoreload-of-modules-in-ipython\n",
    "%load_ext autoreload\n",
    "%autoreload 2\n",
    "import pyximport \n",
    "pyximport.install()\n",
    "import random\n",
    "import numpy as np\n",
    "from data_utils import load_CIFAR10\n",
    "import matplotlib.pyplot as plt\n",
    "from scipy import flip\n",
    "from Layers import *\n",
    "from Layers2 import*\n",
    "from Network import *\n",
    "random.seed(7)"
   ]
  },
  {
   "cell_type": "code",
   "execution_count": 3,
   "metadata": {},
   "outputs": [],
   "source": [
    "%matplotlib inline\n",
    "plt.rcParams['figure.figsize'] = (10.0, 8.0) # set default size of plots\n",
    "plt.rcParams['image.interpolation'] = 'nearest'\n",
    "plt.rcParams['image.cmap'] = 'gray'\n",
    "\n"
   ]
  },
  {
   "cell_type": "code",
   "execution_count": 4,
   "metadata": {
    "collapsed": true
   },
   "outputs": [],
   "source": [
    "# Load the raw CIFAR-10 data.\n",
    "cifar10_dir = 'cifar-10-batches-py'\n",
    "X_train, y_train, X_test, y_test = load_CIFAR10(cifar10_dir)"
   ]
  },
  {
   "cell_type": "code",
   "execution_count": 5,
   "metadata": {},
   "outputs": [
    {
     "name": "stdout",
     "output_type": "stream",
     "text": [
      "('Training data shape: ', (50000, 32, 32, 3))\n",
      "('Training labels shape: ', (50000,))\n",
      "('Test data shape: ', (10000, 32, 32, 3))\n",
      "('Test labels shape: ', (10000,))\n"
     ]
    }
   ],
   "source": [
    "# As a sanity check, we print out the size of the training and test data.\n",
    "print ('Training data shape: ', X_train.shape)\n",
    "print ('Training labels shape: ', y_train.shape)\n",
    "print ('Test data shape: ', X_test.shape)\n",
    "print ('Test labels shape: ', y_test.shape)"
   ]
  },
  {
   "cell_type": "code",
   "execution_count": 6,
   "metadata": {
    "collapsed": true
   },
   "outputs": [],
   "source": [
    "# preprocessing\n",
    "# zero centering \n",
    "#meanimage=np.empty(0,int)\n",
    "meanimage=np.mean(X_train, axis=0)\n",
    "stdimage= np.std(X_train, axis=0)\n",
    "X_train -= meanimage\n",
    "X_train =X_train/stdimage\n",
    "X_test -= meanimage\n",
    "X_test = X_test/stdimage"
   ]
  },
  {
   "cell_type": "code",
   "execution_count": 7,
   "metadata": {},
   "outputs": [
    {
     "name": "stdout",
     "output_type": "stream",
     "text": [
      "(100000, 32, 32, 3)\n"
     ]
    }
   ],
   "source": [
    "#augmentation\n",
    "X_train_flip= flip(X_train, 2)\n",
    "X_train= np.concatenate((X_train, X_train_flip), axis=0)\n",
    "y_train= np.concatenate((y_train, y_train), axis=0)\n",
    "print (X_train.shape)"
   ]
  },
  {
   "cell_type": "code",
   "execution_count": 8,
   "metadata": {},
   "outputs": [
    {
     "name": "stdout",
     "output_type": "stream",
     "text": [
      "(100000, 3, 32, 32)\n"
     ]
    }
   ],
   "source": [
    "X_train = np.transpose(X_train, axes=(0, 3, 1, 2))\n",
    "X_test = np.transpose(X_test, axes=(0, 3, 1, 2))\n",
    "print (X_train.shape)"
   ]
  },
  {
   "cell_type": "code",
   "execution_count": 9,
   "metadata": {
    "collapsed": true
   },
   "outputs": [],
   "source": [
    "#X_train = np.reshape(X_train, (X_train.shape[0], -1))\n",
    "#X_test = np.reshape(X_test, (X_test.shape[0], -1))"
   ]
  },
  {
   "cell_type": "code",
   "execution_count": 10,
   "metadata": {},
   "outputs": [
    {
     "name": "stdout",
     "output_type": "stream",
     "text": [
      "Epoch: 0 tr_loss = 1.291902 val_loss = 0.938153 tr_acc = 0.532814 val_acc = 0.672067\n",
      "\n",
      "Epoch: 1 tr_loss = 0.801542 val_loss = 0.739852 tr_acc = 0.717529 val_acc = 0.741700\n",
      "\n",
      "Epoch: 2 tr_loss = 0.584764 val_loss = 0.743765 tr_acc = 0.796271 val_acc = 0.746033\n",
      "\n",
      "Epoch: 3 tr_loss = 0.439947 val_loss = 0.812740 tr_acc = 0.845914 val_acc = 0.747000\n",
      "\n",
      "Epoch: 4 tr_loss = 0.320257 val_loss = 0.827137 tr_acc = 0.887686 val_acc = 0.761900\n",
      "\n",
      "Epoch: 5 tr_loss = 0.232055 val_loss = 0.953784 tr_acc = 0.918214 val_acc = 0.758633\n",
      "\n",
      "Epoch: 6 tr_loss = 0.176774 val_loss = 0.963667 tr_acc = 0.938771 val_acc = 0.762033\n",
      "\n",
      "Epoch: 7 tr_loss = 0.118619 val_loss = 1.164159 tr_acc = 0.959386 val_acc = 0.754533\n",
      "\n",
      "Epoch: 8 tr_loss = 0.083700 val_loss = 1.224458 tr_acc = 0.971529 val_acc = 0.764000\n",
      "\n",
      "Epoch: 9 tr_loss = 0.064884 val_loss = 1.331687 tr_acc = 0.978543 val_acc = 0.761600\n",
      "\n",
      "Epoch: 10 tr_loss = 0.060377 val_loss = 1.184813 tr_acc = 0.980729 val_acc = 0.775733\n",
      "\n",
      "Epoch: 11 tr_loss = 0.048670 val_loss = 1.384061 tr_acc = 0.983871 val_acc = 0.766567\n",
      "\n",
      "Epoch: 12 tr_loss = 0.051856 val_loss = 1.301917 tr_acc = 0.983200 val_acc = 0.775600\n",
      "\n",
      "Epoch: 13 tr_loss = 0.046474 val_loss = 1.302652 tr_acc = 0.984586 val_acc = 0.770833\n",
      "\n",
      "Epoch: 14 tr_loss = 0.046172 val_loss = 1.335525 tr_acc = 0.985414 val_acc = 0.773200\n",
      "\n",
      "Epoch: 15 tr_loss = 0.041721 val_loss = 1.401151 tr_acc = 0.986300 val_acc = 0.770967\n",
      "\n",
      "Epoch: 16 tr_loss = 0.038188 val_loss = 1.370464 tr_acc = 0.987600 val_acc = 0.767833\n",
      "\n",
      "Epoch: 17 tr_loss = 0.038392 val_loss = 1.291533 tr_acc = 0.987243 val_acc = 0.774133\n",
      "\n",
      "Epoch: 18 tr_loss = 0.037472 val_loss = 1.347444 tr_acc = 0.988029 val_acc = 0.773000\n",
      "\n",
      "Epoch: 19 tr_loss = 0.031695 val_loss = 1.502753 tr_acc = 0.989714 val_acc = 0.769900\n",
      "\n",
      "Epoch: 20 tr_loss = 0.033725 val_loss = 1.342668 tr_acc = 0.988986 val_acc = 0.775167\n",
      "\n",
      "Epoch: 21 tr_loss = 0.028405 val_loss = 1.609778 tr_acc = 0.990657 val_acc = 0.773667\n",
      "\n",
      "Epoch: 22 tr_loss = 0.033319 val_loss = 1.417321 tr_acc = 0.989314 val_acc = 0.774067\n",
      "\n",
      "Epoch: 23 tr_loss = 0.029614 val_loss = 1.403442 tr_acc = 0.990543 val_acc = 0.771000\n",
      "\n",
      "Epoch: 24 tr_loss = 0.026550 val_loss = 1.467728 tr_acc = 0.991686 val_acc = 0.783400\n",
      "\n",
      "Epoch: 25 tr_loss = 0.027834 val_loss = 1.515651 tr_acc = 0.991186 val_acc = 0.766567\n",
      "\n",
      "Epoch: 26 tr_loss = 0.028742 val_loss = 1.514728 tr_acc = 0.991029 val_acc = 0.778033\n",
      "\n",
      "Epoch: 27 tr_loss = 0.022937 val_loss = 1.623325 tr_acc = 0.992586 val_acc = 0.769167\n",
      "\n",
      "Epoch: 28 tr_loss = 0.023807 val_loss = 1.573217 tr_acc = 0.992486 val_acc = 0.777533\n",
      "\n",
      "Epoch: 29 tr_loss = 0.026397 val_loss = 1.454125 tr_acc = 0.991957 val_acc = 0.774600\n",
      "\n",
      "Epoch: 30 tr_loss = 0.021948 val_loss = 1.516777 tr_acc = 0.993043 val_acc = 0.776400\n",
      "\n",
      "Epoch: 31 tr_loss = 0.021499 val_loss = 1.493661 tr_acc = 0.993086 val_acc = 0.775233\n",
      "\n",
      "Epoch: 32 tr_loss = 0.022475 val_loss = 1.584819 tr_acc = 0.992886 val_acc = 0.769233\n",
      "\n",
      "Epoch: 33 tr_loss = 0.028447 val_loss = 1.375451 tr_acc = 0.991057 val_acc = 0.776400\n",
      "\n",
      "Epoch: 34 tr_loss = 0.018471 val_loss = 1.506087 tr_acc = 0.994271 val_acc = 0.779133\n",
      "\n",
      "Epoch: 35 tr_loss = 0.017871 val_loss = 1.567379 tr_acc = 0.994229 val_acc = 0.776733\n",
      "\n"
     ]
    },
    {
     "ename": "KeyboardInterrupt",
     "evalue": "",
     "output_type": "error",
     "traceback": [
      "\u001b[0;31m---------------------------------------------------------------------------\u001b[0m",
      "\u001b[0;31mKeyboardInterrupt\u001b[0m                         Traceback (most recent call last)",
      "\u001b[0;32m<ipython-input-10-21ec15671ed7>\u001b[0m in \u001b[0;36m<module>\u001b[0;34m()\u001b[0m\n\u001b[1;32m     26\u001b[0m \u001b[0mnet\u001b[0m\u001b[0;34m.\u001b[0m\u001b[0madd\u001b[0m\u001b[0;34m(\u001b[0m\u001b[0mlayer\u001b[0m\u001b[0;34m(\u001b[0m\u001b[0;36m200\u001b[0m\u001b[0;34m,\u001b[0m\u001b[0;36m10\u001b[0m\u001b[0;34m)\u001b[0m\u001b[0;34m)\u001b[0m\u001b[0;34m\u001b[0m\u001b[0m\n\u001b[1;32m     27\u001b[0m \u001b[0mnet\u001b[0m\u001b[0;34m.\u001b[0m\u001b[0madd\u001b[0m\u001b[0;34m(\u001b[0m\u001b[0mlossfunc\u001b[0m\u001b[0;34m(\u001b[0m\u001b[0;34m)\u001b[0m\u001b[0;34m)\u001b[0m\u001b[0;34m\u001b[0m\u001b[0m\n\u001b[0;32m---> 28\u001b[0;31m \u001b[0mnet\u001b[0m\u001b[0;34m.\u001b[0m\u001b[0mtrain\u001b[0m\u001b[0;34m(\u001b[0m\u001b[0mX_train\u001b[0m\u001b[0;34m[\u001b[0m\u001b[0;34m:\u001b[0m\u001b[0;36m70000\u001b[0m\u001b[0;34m]\u001b[0m\u001b[0;34m,\u001b[0m\u001b[0my_train\u001b[0m\u001b[0;34m[\u001b[0m\u001b[0;34m:\u001b[0m\u001b[0;36m70000\u001b[0m\u001b[0;34m]\u001b[0m\u001b[0;34m,\u001b[0m\u001b[0mX_train\u001b[0m\u001b[0;34m[\u001b[0m\u001b[0;36m70000\u001b[0m\u001b[0;34m:\u001b[0m\u001b[0;34m]\u001b[0m\u001b[0;34m,\u001b[0m\u001b[0my_train\u001b[0m\u001b[0;34m[\u001b[0m\u001b[0;36m70000\u001b[0m\u001b[0;34m:\u001b[0m\u001b[0;34m]\u001b[0m\u001b[0;34m,\u001b[0m\u001b[0mbatch_size\u001b[0m\u001b[0;34m=\u001b[0m\u001b[0;36m200\u001b[0m\u001b[0;34m)\u001b[0m\u001b[0;34m\u001b[0m\u001b[0m\n\u001b[0m\u001b[1;32m     29\u001b[0m \u001b[0mnet\u001b[0m\u001b[0;34m.\u001b[0m\u001b[0mevaluate\u001b[0m\u001b[0;34m(\u001b[0m\u001b[0mX_test\u001b[0m\u001b[0;34m,\u001b[0m\u001b[0my_test\u001b[0m\u001b[0;34m)\u001b[0m\u001b[0;34m\u001b[0m\u001b[0m\n",
      "\u001b[0;32m/home/basmatamer/Desktop/Assignment 3/Network.pyc\u001b[0m in \u001b[0;36mtrain\u001b[0;34m(self, X_tr, Y_tr, X_val, Y_val, num_epochs, batch_size)\u001b[0m\n\u001b[1;32m     94\u001b[0m \u001b[0;34m\u001b[0m\u001b[0m\n\u001b[1;32m     95\u001b[0m         \u001b[0;32mfor\u001b[0m \u001b[0mi\u001b[0m \u001b[0;32min\u001b[0m \u001b[0mrange\u001b[0m\u001b[0;34m(\u001b[0m\u001b[0mnum_epochs\u001b[0m\u001b[0;34m)\u001b[0m\u001b[0;34m:\u001b[0m\u001b[0;34m\u001b[0m\u001b[0m\n\u001b[0;32m---> 96\u001b[0;31m             \u001b[0mself\u001b[0m\u001b[0;34m.\u001b[0m\u001b[0mepoch\u001b[0m\u001b[0;34m(\u001b[0m\u001b[0mX_tr\u001b[0m\u001b[0;34m,\u001b[0m \u001b[0mY_tr\u001b[0m\u001b[0;34m,\u001b[0m \u001b[0mX_val\u001b[0m\u001b[0;34m,\u001b[0m \u001b[0mY_val\u001b[0m\u001b[0;34m,\u001b[0m \u001b[0mbatch_size\u001b[0m\u001b[0;34m=\u001b[0m\u001b[0mbatch_size\u001b[0m\u001b[0;34m)\u001b[0m\u001b[0;34m\u001b[0m\u001b[0m\n\u001b[0m\u001b[1;32m     97\u001b[0m             print(\"Epoch: %d tr_loss = %f val_loss = %f tr_acc = %f val_acc = %f\\n\"\n\u001b[1;32m     98\u001b[0m                   % (i, self.trlosses[i], self.losses[i], self.trainingacc[i], self.valiacc[i]))\n",
      "\u001b[0;32m/home/basmatamer/Desktop/Assignment 3/Network.pyc\u001b[0m in \u001b[0;36mepoch\u001b[0;34m(self, X_tr, Y_tr, X_val, Y_val, batch_size)\u001b[0m\n\u001b[1;32m     68\u001b[0m             \u001b[0mX_minibatch\u001b[0m \u001b[0;34m=\u001b[0m \u001b[0mX_tr\u001b[0m\u001b[0;34m[\u001b[0m\u001b[0mk\u001b[0m \u001b[0;34m*\u001b[0m \u001b[0mbatch_size\u001b[0m \u001b[0;34m:\u001b[0m \u001b[0;34m(\u001b[0m\u001b[0mk\u001b[0m\u001b[0;34m+\u001b[0m\u001b[0;36m1\u001b[0m\u001b[0;34m)\u001b[0m \u001b[0;34m*\u001b[0m \u001b[0mbatch_size\u001b[0m\u001b[0;34m]\u001b[0m\u001b[0;34m\u001b[0m\u001b[0m\n\u001b[1;32m     69\u001b[0m             \u001b[0mY_minibatch\u001b[0m \u001b[0;34m=\u001b[0m \u001b[0mY_tr\u001b[0m\u001b[0;34m[\u001b[0m\u001b[0mk\u001b[0m \u001b[0;34m*\u001b[0m \u001b[0mbatch_size\u001b[0m \u001b[0;34m:\u001b[0m \u001b[0;34m(\u001b[0m\u001b[0mk\u001b[0m\u001b[0;34m+\u001b[0m\u001b[0;36m1\u001b[0m\u001b[0;34m)\u001b[0m \u001b[0;34m*\u001b[0m \u001b[0mbatch_size\u001b[0m\u001b[0;34m]\u001b[0m\u001b[0;34m\u001b[0m\u001b[0m\n\u001b[0;32m---> 70\u001b[0;31m             \u001b[0mLosses\u001b[0m\u001b[0;34m[\u001b[0m\u001b[0mk\u001b[0m\u001b[0;34m]\u001b[0m\u001b[0;34m,\u001b[0m \u001b[0mAccuracies\u001b[0m\u001b[0;34m[\u001b[0m\u001b[0mk\u001b[0m\u001b[0;34m]\u001b[0m \u001b[0;34m=\u001b[0m \u001b[0mself\u001b[0m\u001b[0;34m.\u001b[0m\u001b[0mstep\u001b[0m\u001b[0;34m(\u001b[0m\u001b[0mX_minibatch\u001b[0m\u001b[0;34m,\u001b[0m \u001b[0mY_minibatch\u001b[0m\u001b[0;34m)\u001b[0m\u001b[0;34m\u001b[0m\u001b[0m\n\u001b[0m\u001b[1;32m     71\u001b[0m         \u001b[0mval_loss\u001b[0m\u001b[0;34m,\u001b[0m \u001b[0mval_acc\u001b[0m \u001b[0;34m=\u001b[0m \u001b[0mself\u001b[0m\u001b[0;34m.\u001b[0m\u001b[0mevaluate\u001b[0m\u001b[0;34m(\u001b[0m\u001b[0mX_val\u001b[0m\u001b[0;34m,\u001b[0m \u001b[0mY_val\u001b[0m\u001b[0;34m,\u001b[0m \u001b[0mstep_size\u001b[0m \u001b[0;34m=\u001b[0m \u001b[0mbatch_size\u001b[0m\u001b[0;34m)\u001b[0m\u001b[0;34m\u001b[0m\u001b[0m\n\u001b[1;32m     72\u001b[0m         \u001b[0mtr_loss\u001b[0m\u001b[0;34m,\u001b[0m \u001b[0mtr_acc\u001b[0m \u001b[0;34m=\u001b[0m \u001b[0mnp\u001b[0m\u001b[0;34m.\u001b[0m\u001b[0mmean\u001b[0m\u001b[0;34m(\u001b[0m\u001b[0mLosses\u001b[0m\u001b[0;34m)\u001b[0m\u001b[0;34m,\u001b[0m \u001b[0mnp\u001b[0m\u001b[0;34m.\u001b[0m\u001b[0mmean\u001b[0m\u001b[0;34m(\u001b[0m\u001b[0mAccuracies\u001b[0m\u001b[0;34m)\u001b[0m\u001b[0;34m\u001b[0m\u001b[0m\n",
      "\u001b[0;32m/home/basmatamer/Desktop/Assignment 3/Network.pyc\u001b[0m in \u001b[0;36mstep\u001b[0;34m(self, X_minibatch, Y_minibatch)\u001b[0m\n\u001b[1;32m     39\u001b[0m \u001b[0;34m\u001b[0m\u001b[0m\n\u001b[1;32m     40\u001b[0m         \u001b[0;32mfor\u001b[0m \u001b[0mi\u001b[0m \u001b[0;32min\u001b[0m \u001b[0mrange\u001b[0m\u001b[0;34m(\u001b[0m\u001b[0mself\u001b[0m\u001b[0;34m.\u001b[0m\u001b[0mnum\u001b[0m\u001b[0;34m-\u001b[0m\u001b[0;36m2\u001b[0m\u001b[0;34m,\u001b[0m \u001b[0;34m-\u001b[0m\u001b[0;36m1\u001b[0m\u001b[0;34m,\u001b[0m \u001b[0;34m-\u001b[0m\u001b[0;36m1\u001b[0m\u001b[0;34m)\u001b[0m\u001b[0;34m:\u001b[0m\u001b[0;34m\u001b[0m\u001b[0m\n\u001b[0;32m---> 41\u001b[0;31m             \u001b[0mdx\u001b[0m \u001b[0;34m=\u001b[0m \u001b[0mself\u001b[0m\u001b[0;34m.\u001b[0m\u001b[0mlayers\u001b[0m\u001b[0;34m[\u001b[0m\u001b[0mi\u001b[0m\u001b[0;34m]\u001b[0m\u001b[0;34m.\u001b[0m\u001b[0mbackward\u001b[0m\u001b[0;34m(\u001b[0m\u001b[0mdx\u001b[0m\u001b[0;34m)\u001b[0m\u001b[0;34m\u001b[0m\u001b[0m\n\u001b[0m\u001b[1;32m     42\u001b[0m \u001b[0;34m\u001b[0m\u001b[0m\n\u001b[1;32m     43\u001b[0m         \u001b[0;32mreturn\u001b[0m \u001b[0mloss\u001b[0m\u001b[0;34m,\u001b[0m \u001b[0maccuracy\u001b[0m\u001b[0;34m\u001b[0m\u001b[0m\n",
      "\u001b[0;32m/home/basmatamer/Desktop/Assignment 3/Layers2.pyc\u001b[0m in \u001b[0;36mbackward\u001b[0;34m(self, dout)\u001b[0m\n\u001b[1;32m     75\u001b[0m         \u001b[0mdx_cols\u001b[0m \u001b[0;34m=\u001b[0m \u001b[0mw\u001b[0m\u001b[0;34m.\u001b[0m\u001b[0mreshape\u001b[0m\u001b[0;34m(\u001b[0m\u001b[0mnum_filters\u001b[0m\u001b[0;34m,\u001b[0m \u001b[0;34m-\u001b[0m\u001b[0;36m1\u001b[0m\u001b[0;34m)\u001b[0m\u001b[0;34m.\u001b[0m\u001b[0mT\u001b[0m\u001b[0;34m.\u001b[0m\u001b[0mdot\u001b[0m\u001b[0;34m(\u001b[0m\u001b[0mdout_reshaped\u001b[0m\u001b[0;34m)\u001b[0m\u001b[0;34m\u001b[0m\u001b[0m\n\u001b[1;32m     76\u001b[0m         dx = col2im_cython(dx_cols, x.shape[0], x.shape[1], x.shape[2], x.shape[3],\n\u001b[0;32m---> 77\u001b[0;31m                      filter_height, filter_width, pad, stride)\n\u001b[0m\u001b[1;32m     78\u001b[0m         \u001b[0mself\u001b[0m\u001b[0;34m.\u001b[0m\u001b[0mw\u001b[0m \u001b[0;34m=\u001b[0m \u001b[0mself\u001b[0m\u001b[0;34m.\u001b[0m\u001b[0mwupdate\u001b[0m\u001b[0;34m.\u001b[0m\u001b[0mupdate\u001b[0m\u001b[0;34m(\u001b[0m\u001b[0mself\u001b[0m\u001b[0;34m.\u001b[0m\u001b[0mw\u001b[0m\u001b[0;34m,\u001b[0m \u001b[0mdw\u001b[0m\u001b[0;34m)\u001b[0m\u001b[0;34m\u001b[0m\u001b[0m\n\u001b[1;32m     79\u001b[0m         \u001b[0mself\u001b[0m\u001b[0;34m.\u001b[0m\u001b[0mb\u001b[0m \u001b[0;34m=\u001b[0m \u001b[0mself\u001b[0m\u001b[0;34m.\u001b[0m\u001b[0mbupdate\u001b[0m\u001b[0;34m.\u001b[0m\u001b[0mupdate\u001b[0m\u001b[0;34m(\u001b[0m\u001b[0mself\u001b[0m\u001b[0;34m.\u001b[0m\u001b[0mb\u001b[0m\u001b[0;34m,\u001b[0m \u001b[0mdb\u001b[0m\u001b[0;34m)\u001b[0m\u001b[0;34m\u001b[0m\u001b[0m\n",
      "\u001b[0;31mKeyboardInterrupt\u001b[0m: "
     ]
    }
   ],
   "source": [
    "#layers=[1000, 500, 200]\n",
    "#net=FCN(layers)\n",
    "#net.train(X_train[0:70000],y_train[0:70000],X_train[70000:100000],y_train[70000:100000])\n",
    "net=network()\n",
    "net.add(conv(filters=16, channels=3, width=32, height=32))\n",
    "net.add(relu())\n",
    "\n",
    "net.add(conv(filters=32, channels=16, width=32, height=32))\n",
    "net.add(relu())\n",
    "net.add(maxpool())\n",
    "\n",
    "net.add(conv(filters=64, channels=32, width=16, height=16))\n",
    "net.add(relu())\n",
    "\n",
    "net.add(conv(filters=64, channels=64, width=16, height=16))\n",
    "net.add(relu())\n",
    "net.add(maxpool())\n",
    "\n",
    "net.add(flatten())\n",
    "net.add(layer(4096,1000))\n",
    "net.add(relu())\n",
    "net.add(layer(1000,500))\n",
    "net.add(relu())\n",
    "net.add(layer(500,200))\n",
    "net.add(relu())\n",
    "net.add(layer(200,10))\n",
    "net.add(lossfunc())\n",
    "net.train(X_train[:70000],y_train[:70000],X_train[70000:],y_train[70000:],batch_size=200)\n",
    "net.evaluate(X_test,y_test)"
   ]
  },
  {
   "cell_type": "code",
   "execution_count": 19,
   "metadata": {},
   "outputs": [],
   "source": [
    "c=0\n",
    "for i in range (net.num):\n",
    "    if (net.layers[i].layername()==\"conv\" or net.layers[i].layername()==\"layer\") :\n",
    "        #net.layers[i].setparams(net.bestweights[c])\n",
    "        net.layers[i].w, net.layers[i].b = net.bestweights[c]\n",
    "        c=c+1"
   ]
  },
  {
   "cell_type": "code",
   "execution_count": 21,
   "metadata": {},
   "outputs": [
    {
     "name": "stdout",
     "output_type": "stream",
     "text": [
      "('Test set accuracy: ', 0.75960000000000005)\n"
     ]
    }
   ],
   "source": [
    "test_loss,test_acc=net.evaluate(X_test, y_test, step_size=200)\n",
    "print ('Test set accuracy: ', test_acc)"
   ]
  },
  {
   "cell_type": "code",
   "execution_count": 20,
   "metadata": {},
   "outputs": [
    {
     "name": "stdout",
     "output_type": "stream",
     "text": [
      "CCrn for class 0 is 0.825000\n",
      "CCrn for class 1 is 0.865000\n",
      "CCrn for class 2 is 0.664000\n",
      "CCrn for class 3 is 0.520000\n",
      "CCrn for class 4 is 0.722000\n",
      "CCrn for class 5 is 0.672000\n",
      "CCrn for class 6 is 0.829000\n",
      "CCrn for class 7 is 0.811000\n",
      "CCrn for class 8 is 0.871000\n",
      "CCrn for class 9 is 0.817000\n"
     ]
    }
   ],
   "source": [
    "ccrn=np.zeros(10)\n",
    "for j in range (10):\n",
    "    I = [i for i , y in enumerate(y_test) if y == j]\n",
    "    _, ccrn[j] = net.evaluate(X_test[I], y_test[I], step_size = 250)\n",
    "    print(\"CCrn for class %d is %f\" % (j, ccrn[j]))"
   ]
  },
  {
   "cell_type": "code",
   "execution_count": null,
   "metadata": {
    "collapsed": true
   },
   "outputs": [],
   "source": []
  }
 ],
 "metadata": {
  "kernelspec": {
   "display_name": "Python 3",
   "language": "python",
   "name": "python3"
  },
  "language_info": {
   "codemirror_mode": {
    "name": "ipython",
    "version": 3
   },
   "file_extension": ".py",
   "mimetype": "text/x-python",
   "name": "python",
   "nbconvert_exporter": "python",
   "pygments_lexer": "ipython3",
   "version": "3.6.3"
  }
 },
 "nbformat": 4,
 "nbformat_minor": 1
}
