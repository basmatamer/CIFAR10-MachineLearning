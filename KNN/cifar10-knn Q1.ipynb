{
 "cells": [
  {
   "cell_type": "code",
   "execution_count": 10,
   "metadata": {
    "collapsed": false,
    "deletable": true,
    "editable": true
   },
   "outputs": [],
   "source": [
    "#http://cs231n.github.io/classification/\n",
    "import random\n",
    "import numpy as np\n",
    "from data_utils import load_CIFAR10\n",
    "import matplotlib.pyplot as plt"
   ]
  },
  {
   "cell_type": "code",
   "execution_count": 11,
   "metadata": {
    "collapsed": false,
    "deletable": true,
    "editable": true
   },
   "outputs": [
    {
     "name": "stdout",
     "output_type": "stream",
     "text": [
      "The autoreload extension is already loaded. To reload it, use:\n",
      "  %reload_ext autoreload\n"
     ]
    }
   ],
   "source": [
    "%matplotlib inline\n",
    "plt.rcParams['figure.figsize'] = (10.0, 8.0) # set default size of plots\n",
    "plt.rcParams['image.interpolation'] = 'nearest'\n",
    "plt.rcParams['image.cmap'] = 'gray'\n",
    "\n",
    "# Some more magic so that the notebook will reload external python modules;\n",
    "# see http://stackoverflow.com/questions/1907993/autoreload-of-modules-in-ipython\n",
    "%load_ext autoreload\n",
    "%autoreload 2"
   ]
  },
  {
   "cell_type": "code",
   "execution_count": 12,
   "metadata": {
    "collapsed": false,
    "deletable": true,
    "editable": true
   },
   "outputs": [],
   "source": [
    "# Load the raw CIFAR-10 data.\n",
    "cifar10_dir = 'cifar-10-batches-py'\n",
    "X_train, y_train, X_test, y_test = load_CIFAR10(cifar10_dir)"
   ]
  },
  {
   "cell_type": "code",
   "execution_count": 13,
   "metadata": {
    "collapsed": false,
    "deletable": true,
    "editable": true
   },
   "outputs": [
    {
     "name": "stdout",
     "output_type": "stream",
     "text": [
      "('Training data shape: ', (50000, 32, 32, 3))\n",
      "('Training labels shape: ', (50000,))\n",
      "('Test data shape: ', (10000, 32, 32, 3))\n",
      "('Test labels shape: ', (10000,))\n"
     ]
    }
   ],
   "source": [
    "# As a sanity check, we print out the size of the training and test data.\n",
    "print ('Training data shape: ', X_train.shape)\n",
    "print ('Training labels shape: ', y_train.shape)\n",
    "print ('Test data shape: ', X_test.shape)\n",
    "print ('Test labels shape: ', y_test.shape)"
   ]
  },
  {
   "cell_type": "code",
   "execution_count": 14,
   "metadata": {
    "collapsed": false,
    "deletable": true,
    "editable": true
   },
   "outputs": [
    {
     "name": "stdout",
     "output_type": "stream",
     "text": [
      "('Xs: ', (3330, 32, 32, 3))\n",
      "('Ys: ', (3330,))\n"
     ]
    }
   ],
   "source": [
    "# Visualize some examples from the dataset.\n",
    "# We show a few examples of training images from each class.\n",
    "batch1=np.empty(0,int)#=[]\n",
    "batch2=np.empty(0,int)#=[]\n",
    "batch3=np.empty(0,int)#=[]\n",
    "\n",
    "classes = ['plane', 'car', 'bird', 'cat', 'deer', 'dog', 'frog', 'horse', 'ship', 'truck']\n",
    "num_classes = len(classes)\n",
    "samples_per_class = 1000\n",
    "for y, cls in enumerate(classes):\n",
    "    idxs = np.flatnonzero(y_train == y)  \n",
    " #   idxs=idxs[:1000]\n",
    "    batch1= np.concatenate([batch1,idxs[:333]]) #containing indicies only\n",
    "    batch2= np.concatenate([batch2,idxs[333:666]]) #containing indicies only\n",
    "    batch3= np.concatenate([batch3,idxs[666:999]]) #containing indicies only\n",
    "#print ('all elements: ', batch3.shape)\n",
    "np.random.shuffle(batch1)\n",
    "np.random.shuffle(batch2)\n",
    "np.random.shuffle(batch3)\n",
    "\n",
    "b1X= X_train[batch1]\n",
    "b1Y= y_train[batch1]\n",
    "b2X= X_train[batch2]\n",
    "b2Y= y_train[batch2]\n",
    "b3X= X_train[batch3]\n",
    "b3Y= y_train[batch3]\n",
    "print ('Xs: ', b1X.shape)\n",
    "print ('Ys: ', b1Y.shape)\n",
    "#X_train, y_train = shuffle_arrays_unison(arrays=[X_train, y_train], random_seed=3)\n",
    " \n",
    "    \n",
    "    # idxs = np.random.choice(idxs, samples_per_class, replace=False)\n",
    "    #   for i, idx in enumerate(idxs):\n",
    "    #   plt_idx = i * num_classes + y + 1\n",
    "    #   plt.subplot(samples_per_class, num_classes, plt_idx)\n",
    "    #   plt.imshow(X_train[idx].astype('uint8'))\n",
    "    #   plt.axis('off')\n",
    "    #   if i == 0:\n",
    "    #       plt.title(cls)\n",
    "#plt.show()"
   ]
  },
  {
   "cell_type": "code",
   "execution_count": 15,
   "metadata": {
    "collapsed": true,
    "deletable": true,
    "editable": true
   },
   "outputs": [],
   "source": [
    "# Subsample the data for more efficient code execution in this exercise\n",
    "#num_training = 1000\n",
    "#mask = range(num_training)\n",
    "#X_train = X_train[mask]\n",
    "#y_train = y_train[mask] \n",
    "\n",
    "num_test = 3330\n",
    "num_test_2 = 9990\n",
    "#mask = range(num_test)\n",
    "#X_test = X_test[mask]\n",
    "#y_test = y_test[mask]"
   ]
  },
  {
   "cell_type": "code",
   "execution_count": 16,
   "metadata": {
    "collapsed": false,
    "deletable": true,
    "editable": true
   },
   "outputs": [
    {
     "name": "stdout",
     "output_type": "stream",
     "text": [
      "((3330, 3072), (3330, 3072), (3330, 3072), (10000, 3072))\n"
     ]
    }
   ],
   "source": [
    "# Reshape the image data into rows\n",
    "b1X = np.reshape(b1X, (b1X.shape[0], -1))\n",
    "b2X = np.reshape(b2X, (b2X.shape[0], -1))\n",
    "b3X = np.reshape(b3X, (b3X.shape[0], -1))\n",
    "X_test = np.reshape(X_test, (X_test.shape[0], -1))\n",
    "print (b1X.shape,b2X.shape,b3X.shape, X_test.shape)"
   ]
  },
  {
   "cell_type": "code",
   "execution_count": 8,
   "metadata": {
    "collapsed": false,
    "deletable": true,
    "editable": true,
    "scrolled": false
   },
   "outputs": [
    {
     "name": "stdout",
     "output_type": "stream",
     "text": [
      "for k= 6\n",
      "Got 993 / 3330 correct => accuracy: 0.298198\n",
      "Got 1061 / 3330 correct => accuracy: 0.318619\n",
      "Got 1086 / 3330 correct => accuracy: 0.326126\n",
      "average accuracy:  0.314314314314\n",
      "for k= 7\n",
      "Got 1000 / 3330 correct => accuracy: 0.300300\n",
      "Got 1058 / 3330 correct => accuracy: 0.317718\n",
      "Got 1077 / 3330 correct => accuracy: 0.323423\n",
      "average accuracy:  0.313813813814\n",
      "for k= 8\n",
      "Got 987 / 3330 correct => accuracy: 0.296396\n",
      "Got 1055 / 3330 correct => accuracy: 0.316817\n",
      "Got 1081 / 3330 correct => accuracy: 0.324625\n",
      "average accuracy:  0.312612612613\n",
      "for k= 9\n",
      "Got 1008 / 3330 correct => accuracy: 0.302703\n",
      "Got 1066 / 3330 correct => accuracy: 0.320120\n",
      "Got 1075 / 3330 correct => accuracy: 0.322823\n",
      "average accuracy:  0.315215215215\n",
      "for k= 10\n",
      "Got 1005 / 3330 correct => accuracy: 0.301802\n",
      "Got 1057 / 3330 correct => accuracy: 0.317417\n",
      "Got 1070 / 3330 correct => accuracy: 0.321321\n",
      "average accuracy:  0.313513513514\n",
      "for k= 11\n",
      "Got 1005 / 3330 correct => accuracy: 0.301802\n",
      "Got 1059 / 3330 correct => accuracy: 0.318018\n",
      "Got 1067 / 3330 correct => accuracy: 0.320420\n",
      "average accuracy:  0.313413413413\n",
      "for k= 12\n",
      "Got 997 / 3330 correct => accuracy: 0.299399\n",
      "Got 1062 / 3330 correct => accuracy: 0.318919\n",
      "Got 1076 / 3330 correct => accuracy: 0.323123\n",
      "average accuracy:  0.313813813814\n",
      "for k= 13\n",
      "Got 1012 / 3330 correct => accuracy: 0.303904\n",
      "Got 1047 / 3330 correct => accuracy: 0.314414\n",
      "Got 1084 / 3330 correct => accuracy: 0.325526\n",
      "average accuracy:  0.314614614615\n",
      "for k= 14\n",
      "Got 1006 / 3330 correct => accuracy: 0.302102\n",
      "Got 1048 / 3330 correct => accuracy: 0.314715\n",
      "Got 1059 / 3330 correct => accuracy: 0.318018\n",
      "average accuracy:  0.311611611612\n",
      "for k= 15\n",
      "Got 988 / 3330 correct => accuracy: 0.296697\n",
      "Got 1055 / 3330 correct => accuracy: 0.316817\n",
      "Got 1053 / 3330 correct => accuracy: 0.316216\n",
      "average accuracy:  0.30990990991\n",
      "for k= 16\n",
      "Got 992 / 3330 correct => accuracy: 0.297898\n",
      "Got 1057 / 3330 correct => accuracy: 0.317417\n",
      "Got 1055 / 3330 correct => accuracy: 0.316817\n",
      "average accuracy:  0.310710710711\n",
      "for k= 17\n",
      "Got 989 / 3330 correct => accuracy: 0.296997\n",
      "Got 1042 / 3330 correct => accuracy: 0.312913\n",
      "Got 1060 / 3330 correct => accuracy: 0.318318\n",
      "average accuracy:  0.309409409409\n",
      "for k= 18\n",
      "Got 984 / 3330 correct => accuracy: 0.295495\n",
      "Got 1044 / 3330 correct => accuracy: 0.313514\n",
      "Got 1061 / 3330 correct => accuracy: 0.318619\n",
      "average accuracy:  0.309209209209\n",
      "for k= 19\n",
      "Got 976 / 3330 correct => accuracy: 0.293093\n",
      "Got 1037 / 3330 correct => accuracy: 0.311411\n",
      "Got 1063 / 3330 correct => accuracy: 0.319219\n",
      "average accuracy:  0.307907907908\n",
      "for k= 20\n",
      "Got 1006 / 3330 correct => accuracy: 0.302102\n",
      "Got 1037 / 3330 correct => accuracy: 0.311411\n",
      "Got 1055 / 3330 correct => accuracy: 0.316817\n",
      "average accuracy:  0.31011011011\n"
     ]
    }
   ],
   "source": [
    "import NearestNeighbor as NN\n",
    "# Create a NN classifier instance and train it with training data\n",
    "best=0\n",
    "bestk=0\n",
    "allav=[ ]  \n",
    "k=[]\n",
    "deviations=[]\n",
    "\n",
    "for i in range(6, 21,1):\n",
    "             \n",
    "    print 'for k=', i\n",
    "    av=0\n",
    "    devcal=[]\n",
    "    classifier = NN.NearestNeighbor() \n",
    "    # FIRST ROUND\n",
    "    alltrainX= np.concatenate([b1X,b2X])\n",
    "    alltrainY= np.concatenate([b1Y,b2Y])\n",
    "    classifier.train(alltrainX, alltrainY)\n",
    "    # Predict the labels of testing data\n",
    "   # print i\n",
    "    y_test_pred = classifier.predict(b3X,i, 'L1')\n",
    "    # Compute and print the fraction of correctly predicted examples\n",
    "    num_correct = np.sum(y_test_pred == b3Y)\n",
    "    accuracy = float(num_correct) / num_test\n",
    "    print ('Got %d / %d correct => accuracy: %f' % (num_correct, num_test, accuracy))\n",
    "    av=av+accuracy\n",
    "    devcal.append(accuracy)\n",
    "\n",
    "    # SECOND ROUND\n",
    "    alltrainX= np.concatenate([b1X,b3X])\n",
    "    alltrainY= np.concatenate([b1Y,b3Y])\n",
    "    classifier.train(alltrainX, alltrainY)\n",
    "    # Predict the labels of testing data\n",
    "    y_test_pred = classifier.predict(b2X,i, 'L1')\n",
    "    # Compute and print the fraction of correctly predicted examples\n",
    "    num_correct = np.sum(y_test_pred == b2Y)\n",
    "    accuracy = float(num_correct) / num_test\n",
    "    print ('Got %d / %d correct => accuracy: %f' % (num_correct, num_test, accuracy))\n",
    "    av=av+accuracy\n",
    "    devcal.append(accuracy)\n",
    "\n",
    "\n",
    "    # THIRD ROUND\n",
    "    alltrainX= np.concatenate([b2X,b3X])\n",
    "    alltrainY= np.concatenate([b2Y,b3Y])\n",
    "    classifier.train(alltrainX, alltrainY)\n",
    "    # Predict the labels of testing data\n",
    "    y_test_pred = classifier.predict(b1X,i, 'L1')\n",
    "    # Compute and print the fraction of correctly predicted examples\n",
    "    num_correct = np.sum(y_test_pred == b1Y)\n",
    "    accuracy = float(num_correct) / num_test\n",
    "    print ('Got %d / %d correct => accuracy: %f' % (num_correct, num_test, accuracy))\n",
    "    av=av+accuracy\n",
    "    devcal.append(accuracy)\n",
    "\n",
    "    av=av/3\n",
    "    print 'average accuracy: ',av\n",
    "    allav.append(av)\n",
    "\n",
    "        \n",
    "    if(av>best):\n",
    "        best=av\n",
    "        bestk=i\n",
    "   \n",
    "    k.append(i)\n",
    "    deviations.append(np.std(devcal))# has all the standard deviations by the end\n",
    " #   print (devcal)\n",
    "\n",
    "#print 'best k: ', bestk, \"  value: \", best\n",
    "\n",
    "\n"
   ]
  },
  {
   "cell_type": "code",
   "execution_count": 13,
   "metadata": {
    "collapsed": false,
    "deletable": true,
    "editable": true,
    "scrolled": false
   },
   "outputs": [
    {
     "name": "stdout",
     "output_type": "stream",
     "text": [
      "best k:  9   value:  0.315215215215\n"
     ]
    },
    {
     "data": {
      "image/png": "[encoded data removed]",
      "text/plain": [
       "<matplotlib.figure.Figure at 0x7fa5b802d050>"
      ]
     },
     "metadata": {},
     "output_type": "display_data"
    }
   ],
   "source": [
    "#dev=np.array[np.mean(j) for k]\n",
    "print 'best k: ', bestk, \"  value: \", best\n",
    "plt.plot(k,allav,'-')\n",
    "plt.axis([5,21,0.30,0.32])\n",
    "plt.show()"
   ]
  },
  {
   "cell_type": "code",
   "execution_count": 20,
   "metadata": {
    "collapsed": false,
    "deletable": true,
    "editable": true,
    "scrolled": false
   },
   "outputs": [
    {
     "data": {
      "image/png": "[encoded data removed]",
      "text/plain": [
       "<matplotlib.figure.Figure at 0x7fa5b7d94a10>"
      ]
     },
     "metadata": {},
     "output_type": "display_data"
    }
   ],
   "source": [
    "plt.errorbar(k, allav, yerr=deviations)\n",
    "plt.axis([5,21,0.30,0.35])\n",
    "plt.show()    "
   ]
  },
  {
   "cell_type": "code",
   "execution_count": 17,
   "metadata": {
    "collapsed": false,
    "deletable": true,
    "editable": true
   },
   "outputs": [
    {
     "name": "stdout",
     "output_type": "stream",
     "text": [
      "((9990, 3072), (10000, 3072))\n",
      "Got 3241 / 9990 correct => accuracy: 0.324424\n"
     ]
    }
   ],
   "source": [
    "import NearestNeighbor as NN\n",
    "classifier = NN.NearestNeighbor() \n",
    "aalltrainX= np.concatenate([b1X,b2X])\n",
    "aalltrainX= np.concatenate([aalltrainX,b3X])\n",
    "aalltrainY= np.concatenate([b1Y,b2Y])\n",
    "aalltrainY= np.concatenate([aalltrainY,b3Y])\n",
    "print (aalltrainX.shape, X_test.shape)\n",
    "classifier.train(aalltrainX, aalltrainY)\n",
    " #redict the labels of testing data\n",
    "y_test_pred = classifier.predict(X_test,9, 'L1')\n",
    " #ompute and print the fraction of correctly predicted examples\n",
    "num_correct = np.sum(y_test_pred == y_test)\n",
    "accuracy = float(num_correct) / num_test_2\n",
    "print ('Got %d / %d correct => accuracy: %f' % (num_correct, num_test, accuracy))\n"
   ]
  },
  {
   "cell_type": "code",
   "execution_count": 29,
   "metadata": {
    "collapsed": false,
    "deletable": true,
    "editable": true
   },
   "outputs": [
    {
     "name": "stdout",
     "output_type": "stream",
     "text": [
      " CCRn is:  0.542000  for class: plane\n",
      " CCRn is:  0.166000  for class: car\n",
      " CCRn is:  0.443000  for class: bird\n",
      " CCRn is:  0.144000  for class: cat\n",
      " CCRn is:  0.422000  for class: deer\n",
      " CCRn is:  0.191000  for class: dog\n",
      " CCRn is:  0.271000  for class: frog\n",
      " CCRn is:  0.197000  for class: horse\n",
      " CCRn is:  0.657000  for class: ship\n",
      " CCRn is:  0.208000  for class: truck\n"
     ]
    }
   ],
   "source": [
    "for i in range (10): \n",
    "    sum_correct= np.sum(y_test_pred[x] == y_test[x] and y_test_pred[x]==i for x in range (X_test.shape[0]))\n",
    "    acc=(float(sum_correct)/1000)\n",
    "    print (' CCRn is:  %f  for class: %s' % (acc, classes[i]))"
   ]
  },
  {
   "cell_type": "code",
   "execution_count": null,
   "metadata": {
    "collapsed": true
   },
   "outputs": [],
   "source": []
  }
 ],
 "metadata": {
  "kernelspec": {
   "display_name": "Python 2",
   "language": "python",
   "name": "python2"
  },
  "language_info": {
   "codemirror_mode": {
    "name": "ipython",
    "version": 2
   },
   "file_extension": ".py",
   "mimetype": "text/x-python",
   "name": "python",
   "nbconvert_exporter": "python",
   "pygments_lexer": "ipython2",
   "version": "2.7.12"
  }
 },
 "nbformat": 4,
 "nbformat_minor": 1
}
